{
 "cells": [
  {
   "cell_type": "markdown",
   "metadata": {},
   "source": [
    "# Visualization scenario summary statistics"
   ]
  },
  {
   "cell_type": "code",
   "execution_count": 1,
   "metadata": {},
   "outputs": [],
   "source": [
    "import csv\n",
    "import json\n",
    "import re"
   ]
  },
  {
   "cell_type": "code",
   "execution_count": 2,
   "metadata": {},
   "outputs": [],
   "source": [
    "csv_data_file_path = './data/geocoded_sampledata_a.csv'\n",
    "json_output_file_path = './output/scenarios_with_summary_grouped.json'\n",
    "read_csv_default_options = { \"delimiter\": \",\" }\n",
    "\n",
    "size_column = \"Qm2\"\n",
    "price_column = \"Price\""
   ]
  },
  {
   "cell_type": "code",
   "execution_count": 3,
   "metadata": {},
   "outputs": [],
   "source": [
    "scenarios = [\n",
    "\t{\"household\": { \"adults\": 1, \"children\": 2, \"income\": 1200 }},\n",
    "\t{\"household\": { \"adults\": 2, \"children\": 3, \"income\": 2000 }}\n",
    "]"
   ]
  },
  {
   "cell_type": "code",
   "execution_count": 4,
   "metadata": {},
   "outputs": [],
   "source": [
    "default_group_by = \"Municipali\""
   ]
  },
  {
   "cell_type": "code",
   "execution_count": 5,
   "metadata": {},
   "outputs": [],
   "source": [
    "default_factor_threshold_price_rent_income = 0.3\n",
    "default_factor_threshold_price_purchase_income = 50\n",
    "default_factor_threshold_price_option = \"rent\""
   ]
  },
  {
   "cell_type": "code",
   "execution_count": 6,
   "metadata": {},
   "outputs": [],
   "source": [
    "default_options_threshold_size = {\n",
    "\t\"min_size\": 20,\n",
    "\t\"factor_size_adults\": 15,\n",
    "\t\"factor_size_children\": 10\n",
    "}"
   ]
  },
  {
   "cell_type": "code",
   "execution_count": 7,
   "metadata": {},
   "outputs": [],
   "source": [
    "def read_csv(file_path, options=read_csv_default_options):\n",
    "\n",
    "\t\"\"\"\n",
    "\tReads and parses csv as dictionary.\n",
    "\n",
    "\tArguments\n",
    "\tfile_path: (relative) file path of the csv file\n",
    "\toptions: set of options to pass to the reader / parser.\n",
    "\t\tdelimiter: delimiter character for parsing the csv file.\n",
    "\t\"\"\"\n",
    "\n",
    "\twith open(csv_data_file_path) as csv_file:\n",
    "\t\trows = csv.reader(csv_file, delimiter=options[\"delimiter\"])\n",
    "\n",
    "\t\theader_row = []\n",
    "\t\toffers = []\n",
    "\n",
    "\t\tfor row in rows:\n",
    "\t\t\tparsed_row = parse_row(row, header_row)\n",
    "\t\t\toffer = parsed_row[0]\n",
    "\t\t\t\n",
    "\t\t\tif offer != False:\n",
    "\t\t\t\toffers.append(offer)\n",
    "\t\t\telse:\n",
    "\t\t\t\theader_row = parsed_row[1]\n",
    "\n",
    "\t\treturn offers"
   ]
  },
  {
   "cell_type": "code",
   "execution_count": 8,
   "metadata": {},
   "outputs": [],
   "source": [
    "def parse_row_to_dict_with_header(row, header_row):\n",
    "\n",
    "\t\"\"\"\n",
    "\tParses a row with a reference header_row\n",
    "\tAssumes we have linked lists. \n",
    "\n",
    "\tArguments\n",
    "\trow: list of values\n",
    "\theader_row: list of keys\n",
    "\t\"\"\"\n",
    "\n",
    "\treturn {header_row[i]: row[i] for i in range(0, len(header_row), 1)}"
   ]
  },
  {
   "cell_type": "code",
   "execution_count": 9,
   "metadata": {},
   "outputs": [],
   "source": [
    "def parse_row(row, header_row):\n",
    "\n",
    "\t\"\"\"\n",
    "\tParses the a row as a dictionary based on the keys provided by the header_row.\n",
    "\n",
    "\tArguments\n",
    "\trow: list to parse (values)\n",
    "\theader_row: reference list (keys)\n",
    "\n",
    "\tReturns\n",
    "\tindex=0: the parsed row or False in case the header_row was passed empty\n",
    "\tindex=1: the referenced header_row or the original row in case the header_row was passed empty\n",
    "\t\"\"\"\n",
    "\n",
    "\tempty_header_row_length = 0\n",
    "\n",
    "\tif len(header_row) == empty_header_row_length:\n",
    "\t\treturn [False, row]\n",
    "\t\t\n",
    "\telse:\n",
    "\t\trow = parse_row_to_dict_with_header(row, header_row)\n",
    "\t\treturn [row, header_row] "
   ]
  },
  {
   "cell_type": "code",
   "execution_count": 10,
   "metadata": {},
   "outputs": [],
   "source": [
    "def get_scenario_threshold_price_rent(income, income_factor=default_factor_threshold_price_rent_income):\n",
    "\n",
    "\t\"\"\"\n",
    "\tReturns the price threshold based on income and income_factor\n",
    "\t\"\"\"\n",
    "\n",
    "\treturn income * income_factor\n",
    "\n",
    "def get_scenario_threshold_price_purchase(income, income_factor=default_factor_threshold_price_purchase_income):\n",
    "\n",
    "\t\"\"\"\n",
    "\tReturns the price threshold based on income and income_factor\n",
    "\t\"\"\"\n",
    "\t\n",
    "\treturn income * income_factor"
   ]
  },
  {
   "cell_type": "code",
   "execution_count": 11,
   "metadata": {},
   "outputs": [],
   "source": [
    "def get_scenario_threshold_price(income):\n",
    "\n",
    "\t\"\"\"\n",
    "\tReturns the price thresholds for rent and purchase\n",
    "\t\"\"\"\n",
    "\t\n",
    "\tthresholds = {}\n",
    "\tthresholds[\"rent\"] = get_scenario_threshold_price_rent(income)\n",
    "\tthresholds[\"purchase\"] = get_scenario_threshold_price_purchase(income)\n",
    "\treturn thresholds"
   ]
  },
  {
   "cell_type": "code",
   "execution_count": 12,
   "metadata": {},
   "outputs": [],
   "source": [
    "def get_scenario_threshold_size(adults, children, options=default_options_threshold_size):\n",
    "\n",
    "\t\"\"\"\n",
    "\tReturns the size threshold based on the number of adults and children\n",
    "\t\"\"\"\n",
    "\t\n",
    "\tmin_size_adults = adults * options[\"factor_size_adults\"] \n",
    "\tmin_size_children = children * options[\"factor_size_children\"]\n",
    "\treturn options[\"min_size\"] + min_size_adults + min_size_children"
   ]
  },
  {
   "cell_type": "code",
   "execution_count": 13,
   "metadata": {},
   "outputs": [],
   "source": [
    "def get_scenario_thresholds(scenario):\n",
    "\n",
    "\t\"\"\"\n",
    "\tReturns the price and size thresholds based on the scenario\n",
    "\t\"\"\"\n",
    "\n",
    "\t_scenario = dict(scenario)\n",
    "\n",
    "\tthresholds = {}\n",
    "\tthresholds[\"size\"] = get_scenario_threshold_size(_scenario[\"household\"][\"adults\"], _scenario[\"household\"][\"children\"])\n",
    "\tthresholds[\"price\"] = get_scenario_threshold_price(_scenario[\"household\"][\"income\"])\n",
    "\n",
    "\t_scenario[\"thresholds\"] = thresholds\n",
    "\treturn _scenario"
   ]
  },
  {
   "cell_type": "code",
   "execution_count": 14,
   "metadata": {},
   "outputs": [],
   "source": [
    "def find_index(list, attribute, target):\n",
    "\n",
    "\t\"\"\"\n",
    "\tReturns the index of the found dictionary based on the attribute name and target value.\n",
    "\n",
    "\tReturns -1 if no index is found\n",
    "\t\"\"\"\n",
    "\n",
    "\tfor index, it in enumerate(list):\n",
    "\t\tif it[attribute] == target:\n",
    "\t\t\treturn index\n",
    "\treturn -1\n",
    "\n",
    "def cast_column_float(string):\n",
    "\n",
    "\t\"\"\"\n",
    "\tReturns cast float value based.\n",
    "\n",
    "\tAssumes the string can contain \n",
    "\twhitespace characters, \n",
    "\ta decimal point, \n",
    "\tbut no other non-digit characters.\n",
    "\t\"\"\"\n",
    "\n",
    "\tclean_string = re.sub(r'\\s', '', string)\n",
    "\treturn float(clean_string)"
   ]
  },
  {
   "cell_type": "code",
   "execution_count": 15,
   "metadata": {},
   "outputs": [],
   "source": [
    "def get_fits_size(offer, scenario):\n",
    "\n",
    "\t\"\"\"\n",
    "\tReturns boolean value indicating if offer is suitable in size.\n",
    "\t\"\"\"\n",
    "\n",
    "\treturn cast_column_float(offer[size_column]) >= scenario[\"thresholds\"][\"size\"]\n",
    "\n",
    "def get_fits_price(offer, scenario, price_option=default_factor_threshold_price_option):\n",
    "\t\n",
    "\t\"\"\"\n",
    "\tReturns boolean value indicating if offer is affordable in price.\n",
    "\t\"\"\"\n",
    "\t\n",
    "\treturn cast_column_float(offer[price_column]) <= scenario[\"thresholds\"][\"price\"][price_option]\n"
   ]
  },
  {
   "cell_type": "code",
   "execution_count": 16,
   "metadata": {},
   "outputs": [],
   "source": [
    "increase_total_by = 1\n",
    "\n",
    "def get_result_with_increments(result, fits_size, fits_price):\n",
    "\n",
    "\t\"\"\"\n",
    "\tReturns a offer_result dictionary \n",
    "\tcomplemented with calculated increments\n",
    "\tbased on the fits_size and fits_price boolean values. \n",
    "\t\"\"\"\n",
    "\n",
    "\t_result = dict(result)\n",
    "\t_result[\"count_total\"] = increase_total_by\n",
    "\t_result[\"count_fits_size\"] = 1 if fits_size else 0\n",
    "\t_result[\"count_fits_price\"] = 1 if fits_size and fits_price else 0\n",
    "\n",
    "\treturn _result"
   ]
  },
  {
   "cell_type": "code",
   "execution_count": 17,
   "metadata": {},
   "outputs": [],
   "source": [
    "def get_result_with_name(result, offer, group_by):\n",
    "\n",
    "\t\"\"\"\n",
    "\tReturns the offer_result dictionary\n",
    "\tcomplemented with the group name\n",
    "\tinferred from the offer and the group_by column name.\n",
    "\t\"\"\"\n",
    "\n",
    "\t_result = dict(result)\n",
    "\t_result[\"name\"] = offer[group_by]\n",
    "\treturn _result"
   ]
  },
  {
   "cell_type": "code",
   "execution_count": 18,
   "metadata": {},
   "outputs": [],
   "source": [
    "def get_offer_results(scenario, offer, group_by):\n",
    "\n",
    "\t\"\"\"\n",
    "\tReturns a offer_result dictionary \n",
    "\twith the name of the group\n",
    "\tand the increments for the summary statistics.\n",
    "\n",
    "\tChecks if the offer fits the size and price thresholds of the scenario\n",
    "\tand adds the increments to the result dictionary.\n",
    "\t\"\"\"\n",
    "\t\n",
    "\tfits_size = get_fits_size(offer, scenario)\n",
    "\tfits_price = get_fits_price(offer, scenario)\n",
    "\n",
    "\tresult = {}\n",
    "\tresult = get_result_with_increments(result, fits_size, fits_price) \n",
    "\tresult = get_result_with_name(result, offer, group_by)\n",
    "\n",
    "\treturn result"
   ]
  },
  {
   "cell_type": "code",
   "execution_count": 19,
   "metadata": {},
   "outputs": [],
   "source": [
    "def update_groups(groups, offer_results):\n",
    "\n",
    "\t\"\"\"\n",
    "\tReturns a new _groups list updated by a single offer_result.\n",
    "\t\"\"\"\n",
    "\n",
    "\t_groups = list(groups)\n",
    "\n",
    "\tfound_index = find_index(groups, \"name\", offer_results[\"name\"])\n",
    "\n",
    "\tif found_index == -1:\n",
    "\t\t_groups.append(offer_results)\n",
    "\telse:\n",
    "\t\t_groups[found_index][\"count_total\"] += offer_results[\"count_total\"]\n",
    "\t\t_groups[found_index][\"count_fits_size\"] += offer_results[\"count_fits_size\"]\n",
    "\t\t_groups[found_index][\"count_fits_price\"] += offer_results[\"count_fits_price\"]\n",
    "\n",
    "\treturn _groups\n"
   ]
  },
  {
   "cell_type": "code",
   "execution_count": 20,
   "metadata": {},
   "outputs": [],
   "source": [
    "def get_summary_grouped(scenario, offers, group_by):\n",
    "\t\n",
    "\t\"\"\"\n",
    "\tReturns a list of summary statistics \n",
    "\tfor a given scenario \n",
    "\tbased on the group_by column name\n",
    "\tand the list of offers.\n",
    "\t\"\"\"\n",
    "\n",
    "\tgroups = []\n",
    "\n",
    "\tfor offer in offers:\n",
    "\t\toffer_results = get_offer_results(scenario, offer, group_by)\n",
    "\t\tgroups = update_groups(groups, offer_results)\n",
    "\t\n",
    "\treturn groups"
   ]
  },
  {
   "cell_type": "code",
   "execution_count": 21,
   "metadata": {},
   "outputs": [],
   "source": [
    "def get_scenarios_with_summary_grouped(scenarios, offers, group_by=default_group_by):\n",
    "\n",
    "\t\"\"\"\n",
    "\tReturns a list of scenarios \n",
    "\tenhanced by the scenario thresholds \n",
    "\tand the grouped summary statistics.\n",
    "\t\"\"\"\n",
    "\n",
    "\t_scenarios = []\n",
    "\n",
    "\tfor scenario in scenarios:\n",
    "\t\t_scenario = get_scenario_thresholds(scenario)\n",
    "\t\t_scenario[\"summary_grouped\"] = get_summary_grouped(_scenario, offers, group_by)\n",
    "\t\t_scenarios.append(_scenario)\n",
    "\n",
    "\treturn _scenarios"
   ]
  },
  {
   "cell_type": "code",
   "execution_count": 22,
   "metadata": {},
   "outputs": [
    {
     "name": "stdout",
     "output_type": "stream",
     "text": [
      "{'Country': 'Serbia', 'City': 'Belgrade', 'Municipali': 'Opstina Vracar', 'District': 'Pravni fakultet', 'Street': 'Svetozara Markovica', 'Price': '125', 'Qm2': '42', 'struktura': '15 Broj soba', 'result_num': '0', 'osm_id': '5210158', 'display_na': 'Светозара Марковића, Београд (Врачар), Градска општина Врачар, Београд, Град Београд, Централна Србија, 11000, Србија', 'category': 'highway', 'type': 'residential', 'latlong': '44.8083054,20.4695537', 'label': '', 'label_1': '', 'label_2': ''}\n"
     ]
    }
   ],
   "source": [
    "offers = read_csv(csv_data_file_path)\n",
    "print(offers[0])"
   ]
  },
  {
   "cell_type": "code",
   "execution_count": 23,
   "metadata": {},
   "outputs": [
    {
     "name": "stdout",
     "output_type": "stream",
     "text": [
      "[{'household': {'adults': 1, 'children': 2, 'income': 1200}, 'thresholds': {'size': 55, 'price': {'rent': 360.0, 'purchase': 60000}}, 'summary_grouped': [{'count_total': 448, 'count_fits_size': 278, 'count_fits_price': 11, 'name': 'Opstina Vracar'}]}, {'household': {'adults': 2, 'children': 3, 'income': 2000}, 'thresholds': {'size': 80, 'price': {'rent': 600.0, 'purchase': 100000}}, 'summary_grouped': [{'count_total': 448, 'count_fits_size': 157, 'count_fits_price': 27, 'name': 'Opstina Vracar'}]}]\n"
     ]
    }
   ],
   "source": [
    "scenarios_with_summary_grouped = get_scenarios_with_summary_grouped(scenarios, offers)\n",
    "print(scenarios_with_summary_grouped)"
   ]
  },
  {
   "cell_type": "code",
   "execution_count": 24,
   "metadata": {},
   "outputs": [],
   "source": [
    "with open(json_output_file_path, 'w') as fp:\n",
    "\tjson.dump(scenarios_with_summary_grouped, fp, indent=2)"
   ]
  },
  {
   "cell_type": "code",
   "execution_count": 17,
   "metadata": {},
   "outputs": [
    {
     "data": {
      "text/plain": [
       "[59879.32908305337, 299396.64541526686]"
      ]
     },
     "execution_count": 17,
     "metadata": {},
     "output_type": "execute_result"
    }
   ],
   "source": [
    "def threshold_price_purchase(income_monthly):\n",
    "\tinterest_rate = 0.0255\n",
    "\tfactor_q = 1 + interest_rate\n",
    "\tduration = 30\n",
    "\tfactor_disposable_income = 0.3\n",
    "\tmonths_in_year = 12\n",
    "\tfactor_down_payment_20_percent = 1.25\n",
    "\n",
    "\tincome_disposable_monthly = income_monthly * factor_disposable_income\n",
    "\tincome_disposable_annual = income_disposable_monthly * months_in_year\n",
    "\n",
    "\taffordable_loan = income_disposable_annual * factor_down_payment_20_percent * ( ( pow( factor_q, duration ) - 1) / ( pow( factor_q, duration ) * interest_rate) )\n",
    "\tdown_payment = affordable_loan * 0.2\n",
    "\t\n",
    "\treturn [down_payment, affordable_loan] \n",
    "\n",
    "threshold_price_purchase(3200)"
   ]
  },
  {
   "cell_type": "code",
   "execution_count": null,
   "metadata": {},
   "outputs": [],
   "source": []
  }
 ],
 "metadata": {
  "interpreter": {
   "hash": "b0fa6594d8f4cbf19f97940f81e996739fb7646882a419484c72d19e05852a7e"
  },
  "kernelspec": {
   "display_name": "Python 3.9.12 64-bit",
   "language": "python",
   "name": "python3"
  },
  "language_info": {
   "codemirror_mode": {
    "name": "ipython",
    "version": 3
   },
   "file_extension": ".py",
   "mimetype": "text/x-python",
   "name": "python",
   "nbconvert_exporter": "python",
   "pygments_lexer": "ipython3",
   "version": "3.9.12"
  },
  "orig_nbformat": 4
 },
 "nbformat": 4,
 "nbformat_minor": 2
}
